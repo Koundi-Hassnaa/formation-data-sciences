{
 "cells": [
  {
   "cell_type": "code",
   "execution_count": 3,
   "id": "b5f7e91b",
   "metadata": {},
   "outputs": [],
   "source": [
    "import speech_recognition as sr"
   ]
  },
  {
   "cell_type": "code",
   "execution_count": 20,
   "id": "2fbe6233",
   "metadata": {},
   "outputs": [
    {
     "name": "stdout",
     "output_type": "stream",
     "text": [
      "<speech_recognition.audio.AudioData object at 0x7f7afc16c520>\n"
     ]
    }
   ],
   "source": [
    "def transcribe_speech():\n",
    "    # Initialize recognizer class\n",
    "    r = sr.Recognizer()\n",
    "    # Reading Microphone as source\n",
    "    with sr.Microphone() as source:\n",
    "        #st.info(\"Speak now...\")\n",
    "        # listen for speech and store in audio_text variable\n",
    "        audio_text = r.listen(source)\n",
    "        print(audio_text)\n",
    "        #st.info(\"Transcribing...\")\n",
    "\n",
    "        try:\n",
    "            # using Google Speech Recognition\n",
    "            text = r.recognize_google(audio_text)\n",
    "            \n",
    "            return text\n",
    "        except:\n",
    "            return \"Sorry, I did not get that.\"\n",
    "\n",
    "text = transcribe_speech()\n",
    "file = open(\"text.txt\",\"w\")\n",
    "file.write(text)\n",
    "file.close()"
   ]
  },
  {
   "cell_type": "code",
   "execution_count": null,
   "id": "0bff8772",
   "metadata": {},
   "outputs": [],
   "source": []
  }
 ],
 "metadata": {
  "kernelspec": {
   "display_name": "Python 3 (ipykernel)",
   "language": "python",
   "name": "python3"
  },
  "language_info": {
   "codemirror_mode": {
    "name": "ipython",
    "version": 3
   },
   "file_extension": ".py",
   "mimetype": "text/x-python",
   "name": "python",
   "nbconvert_exporter": "python",
   "pygments_lexer": "ipython3",
   "version": "3.9.13"
  }
 },
 "nbformat": 4,
 "nbformat_minor": 5
}
